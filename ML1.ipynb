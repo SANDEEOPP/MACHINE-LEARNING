{
 "cells": [
  {
   "cell_type": "code",
   "execution_count": 131,
   "id": "c33d17bc",
   "metadata": {},
   "outputs": [],
   "source": [
    "#importing different python packages to perform\n",
    "import pandas as pd\n",
    "import seaborn as sns\n",
    "import matplotlib.pyplot as plt\n",
    "from scipy.stats import skew\n",
    "import numpy as np\n",
    "from sklearn import linear_model\n",
    "from sklearn import preprocessing\n",
    "from sklearn.model_selection import train_test_split\n",
    "from sklearn.model_selection import cross_val_score"
   ]
  },
  {
   "cell_type": "code",
   "execution_count": 91,
   "id": "77d300eb",
   "metadata": {},
   "outputs": [],
   "source": [
    "#training a dataset\n",
    "df = pd.read_csv(\"monet.csv\")"
   ]
  },
  {
   "cell_type": "code",
   "execution_count": 92,
   "id": "d1208bb0",
   "metadata": {},
   "outputs": [
    {
     "name": "stdout",
     "output_type": "stream",
     "text": [
      "        PRICE  HEIGHT  WIDTH  SIGNED  PICTURE  HOUSE \n",
      "0    3.993780    21.3   25.6       1        1       1\n",
      "1    8.800000    31.9   25.6       1        2       2\n",
      "2    0.131694     6.9   15.9       0        3       3\n",
      "3    2.037500    25.7   32.0       1        4       2\n",
      "4    1.487500    25.7   32.0       1        4       2\n",
      "..        ...     ...    ...     ...      ...     ...\n",
      "425  5.282500    25.6   39.4       1      375       1\n",
      "426  9.352500    25.9   39.6       1      375       2\n",
      "427  8.252500    25.6   39.6       1      375       1\n",
      "428  3.410000    25.6   39.4       1      386       2\n",
      "429  1.542500    25.7   32.0       1      387       1\n",
      "\n",
      "[430 rows x 6 columns]\n"
     ]
    }
   ],
   "source": [
    "print(df)"
   ]
  },
  {
   "cell_type": "code",
   "execution_count": 93,
   "id": "5ebdd342",
   "metadata": {},
   "outputs": [
    {
     "data": {
      "text/html": [
       "<div>\n",
       "<style scoped>\n",
       "    .dataframe tbody tr th:only-of-type {\n",
       "        vertical-align: middle;\n",
       "    }\n",
       "\n",
       "    .dataframe tbody tr th {\n",
       "        vertical-align: top;\n",
       "    }\n",
       "\n",
       "    .dataframe thead th {\n",
       "        text-align: right;\n",
       "    }\n",
       "</style>\n",
       "<table border=\"1\" class=\"dataframe\">\n",
       "  <thead>\n",
       "    <tr style=\"text-align: right;\">\n",
       "      <th></th>\n",
       "      <th>PRICE</th>\n",
       "      <th>HEIGHT</th>\n",
       "      <th>WIDTH</th>\n",
       "      <th>SIGNED</th>\n",
       "      <th>PICTURE</th>\n",
       "      <th>HOUSE</th>\n",
       "    </tr>\n",
       "  </thead>\n",
       "  <tbody>\n",
       "    <tr>\n",
       "      <th>0</th>\n",
       "      <td>3.993780</td>\n",
       "      <td>21.3</td>\n",
       "      <td>25.6</td>\n",
       "      <td>1</td>\n",
       "      <td>1</td>\n",
       "      <td>1</td>\n",
       "    </tr>\n",
       "    <tr>\n",
       "      <th>1</th>\n",
       "      <td>8.800000</td>\n",
       "      <td>31.9</td>\n",
       "      <td>25.6</td>\n",
       "      <td>1</td>\n",
       "      <td>2</td>\n",
       "      <td>2</td>\n",
       "    </tr>\n",
       "    <tr>\n",
       "      <th>2</th>\n",
       "      <td>0.131694</td>\n",
       "      <td>6.9</td>\n",
       "      <td>15.9</td>\n",
       "      <td>0</td>\n",
       "      <td>3</td>\n",
       "      <td>3</td>\n",
       "    </tr>\n",
       "    <tr>\n",
       "      <th>3</th>\n",
       "      <td>2.037500</td>\n",
       "      <td>25.7</td>\n",
       "      <td>32.0</td>\n",
       "      <td>1</td>\n",
       "      <td>4</td>\n",
       "      <td>2</td>\n",
       "    </tr>\n",
       "    <tr>\n",
       "      <th>4</th>\n",
       "      <td>1.487500</td>\n",
       "      <td>25.7</td>\n",
       "      <td>32.0</td>\n",
       "      <td>1</td>\n",
       "      <td>4</td>\n",
       "      <td>2</td>\n",
       "    </tr>\n",
       "    <tr>\n",
       "      <th>5</th>\n",
       "      <td>1.870000</td>\n",
       "      <td>25.6</td>\n",
       "      <td>31.9</td>\n",
       "      <td>1</td>\n",
       "      <td>4</td>\n",
       "      <td>1</td>\n",
       "    </tr>\n",
       "  </tbody>\n",
       "</table>\n",
       "</div>"
      ],
      "text/plain": [
       "      PRICE  HEIGHT  WIDTH  SIGNED  PICTURE  HOUSE \n",
       "0  3.993780    21.3   25.6       1        1       1\n",
       "1  8.800000    31.9   25.6       1        2       2\n",
       "2  0.131694     6.9   15.9       0        3       3\n",
       "3  2.037500    25.7   32.0       1        4       2\n",
       "4  1.487500    25.7   32.0       1        4       2\n",
       "5  1.870000    25.6   31.9       1        4       1"
      ]
     },
     "execution_count": 93,
     "metadata": {},
     "output_type": "execute_result"
    }
   ],
   "source": [
    "df.head(6)"
   ]
  },
  {
   "cell_type": "code",
   "execution_count": 94,
   "id": "c6d5739d",
   "metadata": {},
   "outputs": [
    {
     "data": {
      "text/plain": [
       "(430, 6)"
      ]
     },
     "execution_count": 94,
     "metadata": {},
     "output_type": "execute_result"
    }
   ],
   "source": [
    "df.shape"
   ]
  },
  {
   "cell_type": "code",
   "execution_count": 95,
   "id": "08254a8c",
   "metadata": {},
   "outputs": [
    {
     "name": "stdout",
     "output_type": "stream",
     "text": [
      "<class 'pandas.core.frame.DataFrame'>\n",
      "RangeIndex: 430 entries, 0 to 429\n",
      "Data columns (total 6 columns):\n",
      " #   Column   Non-Null Count  Dtype  \n",
      "---  ------   --------------  -----  \n",
      " 0   PRICE    430 non-null    float64\n",
      " 1   HEIGHT   430 non-null    float64\n",
      " 2   WIDTH    430 non-null    float64\n",
      " 3   SIGNED   430 non-null    int64  \n",
      " 4   PICTURE  430 non-null    int64  \n",
      " 5   HOUSE    430 non-null    int64  \n",
      "dtypes: float64(3), int64(3)\n",
      "memory usage: 20.3 KB\n"
     ]
    }
   ],
   "source": [
    "df.info()"
   ]
  },
  {
   "cell_type": "code",
   "execution_count": 96,
   "id": "80df15a7",
   "metadata": {},
   "outputs": [
    {
     "data": {
      "text/html": [
       "<div>\n",
       "<style scoped>\n",
       "    .dataframe tbody tr th:only-of-type {\n",
       "        vertical-align: middle;\n",
       "    }\n",
       "\n",
       "    .dataframe tbody tr th {\n",
       "        vertical-align: top;\n",
       "    }\n",
       "\n",
       "    .dataframe thead th {\n",
       "        text-align: right;\n",
       "    }\n",
       "</style>\n",
       "<table border=\"1\" class=\"dataframe\">\n",
       "  <thead>\n",
       "    <tr style=\"text-align: right;\">\n",
       "      <th></th>\n",
       "      <th>PRICE</th>\n",
       "      <th>HEIGHT</th>\n",
       "      <th>WIDTH</th>\n",
       "      <th>SIGNED</th>\n",
       "      <th>PICTURE</th>\n",
       "      <th>HOUSE</th>\n",
       "    </tr>\n",
       "  </thead>\n",
       "  <tbody>\n",
       "    <tr>\n",
       "      <th>0</th>\n",
       "      <td>True</td>\n",
       "      <td>True</td>\n",
       "      <td>True</td>\n",
       "      <td>True</td>\n",
       "      <td>True</td>\n",
       "      <td>True</td>\n",
       "    </tr>\n",
       "    <tr>\n",
       "      <th>1</th>\n",
       "      <td>True</td>\n",
       "      <td>True</td>\n",
       "      <td>True</td>\n",
       "      <td>True</td>\n",
       "      <td>True</td>\n",
       "      <td>True</td>\n",
       "    </tr>\n",
       "    <tr>\n",
       "      <th>2</th>\n",
       "      <td>True</td>\n",
       "      <td>True</td>\n",
       "      <td>True</td>\n",
       "      <td>True</td>\n",
       "      <td>True</td>\n",
       "      <td>True</td>\n",
       "    </tr>\n",
       "    <tr>\n",
       "      <th>3</th>\n",
       "      <td>True</td>\n",
       "      <td>True</td>\n",
       "      <td>True</td>\n",
       "      <td>True</td>\n",
       "      <td>True</td>\n",
       "      <td>True</td>\n",
       "    </tr>\n",
       "    <tr>\n",
       "      <th>4</th>\n",
       "      <td>True</td>\n",
       "      <td>True</td>\n",
       "      <td>True</td>\n",
       "      <td>True</td>\n",
       "      <td>True</td>\n",
       "      <td>True</td>\n",
       "    </tr>\n",
       "    <tr>\n",
       "      <th>...</th>\n",
       "      <td>...</td>\n",
       "      <td>...</td>\n",
       "      <td>...</td>\n",
       "      <td>...</td>\n",
       "      <td>...</td>\n",
       "      <td>...</td>\n",
       "    </tr>\n",
       "    <tr>\n",
       "      <th>425</th>\n",
       "      <td>True</td>\n",
       "      <td>True</td>\n",
       "      <td>True</td>\n",
       "      <td>True</td>\n",
       "      <td>True</td>\n",
       "      <td>True</td>\n",
       "    </tr>\n",
       "    <tr>\n",
       "      <th>426</th>\n",
       "      <td>True</td>\n",
       "      <td>True</td>\n",
       "      <td>True</td>\n",
       "      <td>True</td>\n",
       "      <td>True</td>\n",
       "      <td>True</td>\n",
       "    </tr>\n",
       "    <tr>\n",
       "      <th>427</th>\n",
       "      <td>True</td>\n",
       "      <td>True</td>\n",
       "      <td>True</td>\n",
       "      <td>True</td>\n",
       "      <td>True</td>\n",
       "      <td>True</td>\n",
       "    </tr>\n",
       "    <tr>\n",
       "      <th>428</th>\n",
       "      <td>True</td>\n",
       "      <td>True</td>\n",
       "      <td>True</td>\n",
       "      <td>True</td>\n",
       "      <td>True</td>\n",
       "      <td>True</td>\n",
       "    </tr>\n",
       "    <tr>\n",
       "      <th>429</th>\n",
       "      <td>True</td>\n",
       "      <td>True</td>\n",
       "      <td>True</td>\n",
       "      <td>True</td>\n",
       "      <td>True</td>\n",
       "      <td>True</td>\n",
       "    </tr>\n",
       "  </tbody>\n",
       "</table>\n",
       "<p>430 rows × 6 columns</p>\n",
       "</div>"
      ],
      "text/plain": [
       "     PRICE  HEIGHT  WIDTH  SIGNED  PICTURE  HOUSE \n",
       "0     True    True   True    True     True    True\n",
       "1     True    True   True    True     True    True\n",
       "2     True    True   True    True     True    True\n",
       "3     True    True   True    True     True    True\n",
       "4     True    True   True    True     True    True\n",
       "..     ...     ...    ...     ...      ...     ...\n",
       "425   True    True   True    True     True    True\n",
       "426   True    True   True    True     True    True\n",
       "427   True    True   True    True     True    True\n",
       "428   True    True   True    True     True    True\n",
       "429   True    True   True    True     True    True\n",
       "\n",
       "[430 rows x 6 columns]"
      ]
     },
     "execution_count": 96,
     "metadata": {},
     "output_type": "execute_result"
    }
   ],
   "source": [
    "df.notnull()"
   ]
  },
  {
   "cell_type": "code",
   "execution_count": 97,
   "id": "3c6daceb",
   "metadata": {},
   "outputs": [
    {
     "data": {
      "text/html": [
       "<div>\n",
       "<style scoped>\n",
       "    .dataframe tbody tr th:only-of-type {\n",
       "        vertical-align: middle;\n",
       "    }\n",
       "\n",
       "    .dataframe tbody tr th {\n",
       "        vertical-align: top;\n",
       "    }\n",
       "\n",
       "    .dataframe thead th {\n",
       "        text-align: right;\n",
       "    }\n",
       "</style>\n",
       "<table border=\"1\" class=\"dataframe\">\n",
       "  <thead>\n",
       "    <tr style=\"text-align: right;\">\n",
       "      <th></th>\n",
       "      <th>PRICE</th>\n",
       "      <th>HEIGHT</th>\n",
       "      <th>WIDTH</th>\n",
       "      <th>SIGNED</th>\n",
       "      <th>PICTURE</th>\n",
       "      <th>HOUSE</th>\n",
       "    </tr>\n",
       "  </thead>\n",
       "  <tbody>\n",
       "    <tr>\n",
       "      <th>0</th>\n",
       "      <td>False</td>\n",
       "      <td>False</td>\n",
       "      <td>False</td>\n",
       "      <td>False</td>\n",
       "      <td>False</td>\n",
       "      <td>False</td>\n",
       "    </tr>\n",
       "    <tr>\n",
       "      <th>1</th>\n",
       "      <td>False</td>\n",
       "      <td>False</td>\n",
       "      <td>False</td>\n",
       "      <td>False</td>\n",
       "      <td>False</td>\n",
       "      <td>False</td>\n",
       "    </tr>\n",
       "    <tr>\n",
       "      <th>2</th>\n",
       "      <td>False</td>\n",
       "      <td>False</td>\n",
       "      <td>False</td>\n",
       "      <td>False</td>\n",
       "      <td>False</td>\n",
       "      <td>False</td>\n",
       "    </tr>\n",
       "    <tr>\n",
       "      <th>3</th>\n",
       "      <td>False</td>\n",
       "      <td>False</td>\n",
       "      <td>False</td>\n",
       "      <td>False</td>\n",
       "      <td>False</td>\n",
       "      <td>False</td>\n",
       "    </tr>\n",
       "    <tr>\n",
       "      <th>4</th>\n",
       "      <td>False</td>\n",
       "      <td>False</td>\n",
       "      <td>False</td>\n",
       "      <td>False</td>\n",
       "      <td>False</td>\n",
       "      <td>False</td>\n",
       "    </tr>\n",
       "    <tr>\n",
       "      <th>...</th>\n",
       "      <td>...</td>\n",
       "      <td>...</td>\n",
       "      <td>...</td>\n",
       "      <td>...</td>\n",
       "      <td>...</td>\n",
       "      <td>...</td>\n",
       "    </tr>\n",
       "    <tr>\n",
       "      <th>425</th>\n",
       "      <td>False</td>\n",
       "      <td>False</td>\n",
       "      <td>False</td>\n",
       "      <td>False</td>\n",
       "      <td>False</td>\n",
       "      <td>False</td>\n",
       "    </tr>\n",
       "    <tr>\n",
       "      <th>426</th>\n",
       "      <td>False</td>\n",
       "      <td>False</td>\n",
       "      <td>False</td>\n",
       "      <td>False</td>\n",
       "      <td>False</td>\n",
       "      <td>False</td>\n",
       "    </tr>\n",
       "    <tr>\n",
       "      <th>427</th>\n",
       "      <td>False</td>\n",
       "      <td>False</td>\n",
       "      <td>False</td>\n",
       "      <td>False</td>\n",
       "      <td>False</td>\n",
       "      <td>False</td>\n",
       "    </tr>\n",
       "    <tr>\n",
       "      <th>428</th>\n",
       "      <td>False</td>\n",
       "      <td>False</td>\n",
       "      <td>False</td>\n",
       "      <td>False</td>\n",
       "      <td>False</td>\n",
       "      <td>False</td>\n",
       "    </tr>\n",
       "    <tr>\n",
       "      <th>429</th>\n",
       "      <td>False</td>\n",
       "      <td>False</td>\n",
       "      <td>False</td>\n",
       "      <td>False</td>\n",
       "      <td>False</td>\n",
       "      <td>False</td>\n",
       "    </tr>\n",
       "  </tbody>\n",
       "</table>\n",
       "<p>430 rows × 6 columns</p>\n",
       "</div>"
      ],
      "text/plain": [
       "     PRICE  HEIGHT  WIDTH  SIGNED  PICTURE  HOUSE \n",
       "0    False   False  False   False    False   False\n",
       "1    False   False  False   False    False   False\n",
       "2    False   False  False   False    False   False\n",
       "3    False   False  False   False    False   False\n",
       "4    False   False  False   False    False   False\n",
       "..     ...     ...    ...     ...      ...     ...\n",
       "425  False   False  False   False    False   False\n",
       "426  False   False  False   False    False   False\n",
       "427  False   False  False   False    False   False\n",
       "428  False   False  False   False    False   False\n",
       "429  False   False  False   False    False   False\n",
       "\n",
       "[430 rows x 6 columns]"
      ]
     },
     "execution_count": 97,
     "metadata": {},
     "output_type": "execute_result"
    }
   ],
   "source": [
    "df.isnull()"
   ]
  },
  {
   "cell_type": "code",
   "execution_count": 98,
   "id": "fb343726",
   "metadata": {},
   "outputs": [
    {
     "data": {
      "text/html": [
       "<div>\n",
       "<style scoped>\n",
       "    .dataframe tbody tr th:only-of-type {\n",
       "        vertical-align: middle;\n",
       "    }\n",
       "\n",
       "    .dataframe tbody tr th {\n",
       "        vertical-align: top;\n",
       "    }\n",
       "\n",
       "    .dataframe thead th {\n",
       "        text-align: right;\n",
       "    }\n",
       "</style>\n",
       "<table border=\"1\" class=\"dataframe\">\n",
       "  <thead>\n",
       "    <tr style=\"text-align: right;\">\n",
       "      <th></th>\n",
       "      <th>PRICE</th>\n",
       "      <th>HEIGHT</th>\n",
       "      <th>WIDTH</th>\n",
       "      <th>SIGNED</th>\n",
       "      <th>PICTURE</th>\n",
       "      <th>HOUSE</th>\n",
       "    </tr>\n",
       "  </thead>\n",
       "  <tbody>\n",
       "    <tr>\n",
       "      <th>0</th>\n",
       "      <td>3.993780</td>\n",
       "      <td>21.3</td>\n",
       "      <td>25.6</td>\n",
       "      <td>1</td>\n",
       "      <td>1</td>\n",
       "      <td>1</td>\n",
       "    </tr>\n",
       "    <tr>\n",
       "      <th>1</th>\n",
       "      <td>8.800000</td>\n",
       "      <td>31.9</td>\n",
       "      <td>25.6</td>\n",
       "      <td>1</td>\n",
       "      <td>2</td>\n",
       "      <td>2</td>\n",
       "    </tr>\n",
       "    <tr>\n",
       "      <th>2</th>\n",
       "      <td>0.131694</td>\n",
       "      <td>6.9</td>\n",
       "      <td>15.9</td>\n",
       "      <td>0</td>\n",
       "      <td>3</td>\n",
       "      <td>3</td>\n",
       "    </tr>\n",
       "    <tr>\n",
       "      <th>3</th>\n",
       "      <td>2.037500</td>\n",
       "      <td>25.7</td>\n",
       "      <td>32.0</td>\n",
       "      <td>1</td>\n",
       "      <td>4</td>\n",
       "      <td>2</td>\n",
       "    </tr>\n",
       "    <tr>\n",
       "      <th>4</th>\n",
       "      <td>1.487500</td>\n",
       "      <td>25.7</td>\n",
       "      <td>32.0</td>\n",
       "      <td>1</td>\n",
       "      <td>4</td>\n",
       "      <td>2</td>\n",
       "    </tr>\n",
       "    <tr>\n",
       "      <th>...</th>\n",
       "      <td>...</td>\n",
       "      <td>...</td>\n",
       "      <td>...</td>\n",
       "      <td>...</td>\n",
       "      <td>...</td>\n",
       "      <td>...</td>\n",
       "    </tr>\n",
       "    <tr>\n",
       "      <th>425</th>\n",
       "      <td>5.282500</td>\n",
       "      <td>25.6</td>\n",
       "      <td>39.4</td>\n",
       "      <td>1</td>\n",
       "      <td>375</td>\n",
       "      <td>1</td>\n",
       "    </tr>\n",
       "    <tr>\n",
       "      <th>426</th>\n",
       "      <td>9.352500</td>\n",
       "      <td>25.9</td>\n",
       "      <td>39.6</td>\n",
       "      <td>1</td>\n",
       "      <td>375</td>\n",
       "      <td>2</td>\n",
       "    </tr>\n",
       "    <tr>\n",
       "      <th>427</th>\n",
       "      <td>8.252500</td>\n",
       "      <td>25.6</td>\n",
       "      <td>39.6</td>\n",
       "      <td>1</td>\n",
       "      <td>375</td>\n",
       "      <td>1</td>\n",
       "    </tr>\n",
       "    <tr>\n",
       "      <th>428</th>\n",
       "      <td>3.410000</td>\n",
       "      <td>25.6</td>\n",
       "      <td>39.4</td>\n",
       "      <td>1</td>\n",
       "      <td>386</td>\n",
       "      <td>2</td>\n",
       "    </tr>\n",
       "    <tr>\n",
       "      <th>429</th>\n",
       "      <td>1.542500</td>\n",
       "      <td>25.7</td>\n",
       "      <td>32.0</td>\n",
       "      <td>1</td>\n",
       "      <td>387</td>\n",
       "      <td>1</td>\n",
       "    </tr>\n",
       "  </tbody>\n",
       "</table>\n",
       "<p>430 rows × 6 columns</p>\n",
       "</div>"
      ],
      "text/plain": [
       "        PRICE  HEIGHT  WIDTH  SIGNED  PICTURE  HOUSE \n",
       "0    3.993780    21.3   25.6       1        1       1\n",
       "1    8.800000    31.9   25.6       1        2       2\n",
       "2    0.131694     6.9   15.9       0        3       3\n",
       "3    2.037500    25.7   32.0       1        4       2\n",
       "4    1.487500    25.7   32.0       1        4       2\n",
       "..        ...     ...    ...     ...      ...     ...\n",
       "425  5.282500    25.6   39.4       1      375       1\n",
       "426  9.352500    25.9   39.6       1      375       2\n",
       "427  8.252500    25.6   39.6       1      375       1\n",
       "428  3.410000    25.6   39.4       1      386       2\n",
       "429  1.542500    25.7   32.0       1      387       1\n",
       "\n",
       "[430 rows x 6 columns]"
      ]
     },
     "execution_count": 98,
     "metadata": {},
     "output_type": "execute_result"
    }
   ],
   "source": [
    "df.fillna(0)"
   ]
  },
  {
   "cell_type": "code",
   "execution_count": 99,
   "id": "240d14a6",
   "metadata": {},
   "outputs": [
    {
     "data": {
      "text/plain": [
       "array([[<AxesSubplot:title={'center':'PRICE'}>,\n",
       "        <AxesSubplot:title={'center':'HEIGHT'}>],\n",
       "       [<AxesSubplot:title={'center':'WIDTH'}>,\n",
       "        <AxesSubplot:title={'center':'SIGNED'}>],\n",
       "       [<AxesSubplot:title={'center':'PICTURE'}>,\n",
       "        <AxesSubplot:title={'center':'HOUSE '}>]], dtype=object)"
      ]
     },
     "execution_count": 99,
     "metadata": {},
     "output_type": "execute_result"
    },
    {
     "data": {
      "image/png": "[encoded data removed]",
      "text/plain": [
       "<Figure size 720x432 with 6 Axes>"
      ]
     },
     "metadata": {
      "needs_background": "light"
     },
     "output_type": "display_data"
    }
   ],
   "source": [
    "df.hist(grid=False,\n",
    "       figsize=(10, 6),\n",
    "       bins=30)"
   ]
  },
  {
   "cell_type": "code",
   "execution_count": 100,
   "id": "0ea50cbc",
   "metadata": {},
   "outputs": [
    {
     "data": {
      "text/html": [
       "<div>\n",
       "<style scoped>\n",
       "    .dataframe tbody tr th:only-of-type {\n",
       "        vertical-align: middle;\n",
       "    }\n",
       "\n",
       "    .dataframe tbody tr th {\n",
       "        vertical-align: top;\n",
       "    }\n",
       "\n",
       "    .dataframe thead th {\n",
       "        text-align: right;\n",
       "    }\n",
       "</style>\n",
       "<table border=\"1\" class=\"dataframe\">\n",
       "  <thead>\n",
       "    <tr style=\"text-align: right;\">\n",
       "      <th></th>\n",
       "      <th>skew</th>\n",
       "      <th>kurtosis</th>\n",
       "    </tr>\n",
       "  </thead>\n",
       "  <tbody>\n",
       "    <tr>\n",
       "      <th>PRICE</th>\n",
       "      <td>2.840902</td>\n",
       "      <td>10.598796</td>\n",
       "    </tr>\n",
       "    <tr>\n",
       "      <th>HEIGHT</th>\n",
       "      <td>1.832789</td>\n",
       "      <td>6.131083</td>\n",
       "    </tr>\n",
       "    <tr>\n",
       "      <th>WIDTH</th>\n",
       "      <td>2.055290</td>\n",
       "      <td>8.952752</td>\n",
       "    </tr>\n",
       "    <tr>\n",
       "      <th>SIGNED</th>\n",
       "      <td>-1.679947</td>\n",
       "      <td>0.826041</td>\n",
       "    </tr>\n",
       "    <tr>\n",
       "      <th>PICTURE</th>\n",
       "      <td>0.070325</td>\n",
       "      <td>-1.167413</td>\n",
       "    </tr>\n",
       "    <tr>\n",
       "      <th>HOUSE</th>\n",
       "      <td>0.374641</td>\n",
       "      <td>-0.689935</td>\n",
       "    </tr>\n",
       "  </tbody>\n",
       "</table>\n",
       "</div>"
      ],
      "text/plain": [
       "             skew   kurtosis\n",
       "PRICE    2.840902  10.598796\n",
       "HEIGHT   1.832789   6.131083\n",
       "WIDTH    2.055290   8.952752\n",
       "SIGNED  -1.679947   0.826041\n",
       "PICTURE  0.070325  -1.167413\n",
       "HOUSE    0.374641  -0.689935"
      ]
     },
     "execution_count": 100,
     "metadata": {},
     "output_type": "execute_result"
    }
   ],
   "source": [
    "df.agg(['skew', 'kurtosis']).transpose()"
   ]
  },
  {
   "cell_type": "code",
   "execution_count": 101,
   "id": "9cd6e81f",
   "metadata": {},
   "outputs": [],
   "source": [
    "# Python log transform\n",
    "df.insert(len(df.columns), 'C_log',\n",
    "         np.log(df['HEIGHT']))"
   ]
  },
  {
   "cell_type": "code",
   "execution_count": 102,
   "id": "d5a6747c",
   "metadata": {},
   "outputs": [],
   "source": [
    "# Log transformation of negatively (left) skewed data in Python\n",
    "df.insert(len(df.columns), 'D_log',\n",
    "         np.log(max(df.iloc[:, 2] + 1) - df.iloc[:, 2]))"
   ]
  },
  {
   "cell_type": "code",
   "execution_count": 103,
   "id": "578af25d",
   "metadata": {},
   "outputs": [
    {
     "data": {
      "text/html": [
       "<div>\n",
       "<style scoped>\n",
       "    .dataframe tbody tr th:only-of-type {\n",
       "        vertical-align: middle;\n",
       "    }\n",
       "\n",
       "    .dataframe tbody tr th {\n",
       "        vertical-align: top;\n",
       "    }\n",
       "\n",
       "    .dataframe thead th {\n",
       "        text-align: right;\n",
       "    }\n",
       "</style>\n",
       "<table border=\"1\" class=\"dataframe\">\n",
       "  <thead>\n",
       "    <tr style=\"text-align: right;\">\n",
       "      <th></th>\n",
       "      <th>PRICE</th>\n",
       "      <th>HEIGHT</th>\n",
       "      <th>WIDTH</th>\n",
       "      <th>SIGNED</th>\n",
       "      <th>PICTURE</th>\n",
       "      <th>HOUSE</th>\n",
       "      <th>C_log</th>\n",
       "      <th>D_log</th>\n",
       "    </tr>\n",
       "  </thead>\n",
       "  <tbody>\n",
       "    <tr>\n",
       "      <th>0</th>\n",
       "      <td>3.993780</td>\n",
       "      <td>21.3</td>\n",
       "      <td>25.6</td>\n",
       "      <td>1</td>\n",
       "      <td>1</td>\n",
       "      <td>1</td>\n",
       "      <td>3.058707</td>\n",
       "      <td>4.165114</td>\n",
       "    </tr>\n",
       "    <tr>\n",
       "      <th>1</th>\n",
       "      <td>8.800000</td>\n",
       "      <td>31.9</td>\n",
       "      <td>25.6</td>\n",
       "      <td>1</td>\n",
       "      <td>2</td>\n",
       "      <td>2</td>\n",
       "      <td>3.462606</td>\n",
       "      <td>4.165114</td>\n",
       "    </tr>\n",
       "    <tr>\n",
       "      <th>2</th>\n",
       "      <td>0.131694</td>\n",
       "      <td>6.9</td>\n",
       "      <td>15.9</td>\n",
       "      <td>0</td>\n",
       "      <td>3</td>\n",
       "      <td>3</td>\n",
       "      <td>1.931521</td>\n",
       "      <td>4.305416</td>\n",
       "    </tr>\n",
       "    <tr>\n",
       "      <th>3</th>\n",
       "      <td>2.037500</td>\n",
       "      <td>25.7</td>\n",
       "      <td>32.0</td>\n",
       "      <td>1</td>\n",
       "      <td>4</td>\n",
       "      <td>2</td>\n",
       "      <td>3.246491</td>\n",
       "      <td>4.060443</td>\n",
       "    </tr>\n",
       "    <tr>\n",
       "      <th>4</th>\n",
       "      <td>1.487500</td>\n",
       "      <td>25.7</td>\n",
       "      <td>32.0</td>\n",
       "      <td>1</td>\n",
       "      <td>4</td>\n",
       "      <td>2</td>\n",
       "      <td>3.246491</td>\n",
       "      <td>4.060443</td>\n",
       "    </tr>\n",
       "    <tr>\n",
       "      <th>...</th>\n",
       "      <td>...</td>\n",
       "      <td>...</td>\n",
       "      <td>...</td>\n",
       "      <td>...</td>\n",
       "      <td>...</td>\n",
       "      <td>...</td>\n",
       "      <td>...</td>\n",
       "      <td>...</td>\n",
       "    </tr>\n",
       "    <tr>\n",
       "      <th>425</th>\n",
       "      <td>5.282500</td>\n",
       "      <td>25.6</td>\n",
       "      <td>39.4</td>\n",
       "      <td>1</td>\n",
       "      <td>375</td>\n",
       "      <td>1</td>\n",
       "      <td>3.242592</td>\n",
       "      <td>3.923952</td>\n",
       "    </tr>\n",
       "    <tr>\n",
       "      <th>426</th>\n",
       "      <td>9.352500</td>\n",
       "      <td>25.9</td>\n",
       "      <td>39.6</td>\n",
       "      <td>1</td>\n",
       "      <td>375</td>\n",
       "      <td>2</td>\n",
       "      <td>3.254243</td>\n",
       "      <td>3.919991</td>\n",
       "    </tr>\n",
       "    <tr>\n",
       "      <th>427</th>\n",
       "      <td>8.252500</td>\n",
       "      <td>25.6</td>\n",
       "      <td>39.6</td>\n",
       "      <td>1</td>\n",
       "      <td>375</td>\n",
       "      <td>1</td>\n",
       "      <td>3.242592</td>\n",
       "      <td>3.919991</td>\n",
       "    </tr>\n",
       "    <tr>\n",
       "      <th>428</th>\n",
       "      <td>3.410000</td>\n",
       "      <td>25.6</td>\n",
       "      <td>39.4</td>\n",
       "      <td>1</td>\n",
       "      <td>386</td>\n",
       "      <td>2</td>\n",
       "      <td>3.242592</td>\n",
       "      <td>3.923952</td>\n",
       "    </tr>\n",
       "    <tr>\n",
       "      <th>429</th>\n",
       "      <td>1.542500</td>\n",
       "      <td>25.7</td>\n",
       "      <td>32.0</td>\n",
       "      <td>1</td>\n",
       "      <td>387</td>\n",
       "      <td>1</td>\n",
       "      <td>3.246491</td>\n",
       "      <td>4.060443</td>\n",
       "    </tr>\n",
       "  </tbody>\n",
       "</table>\n",
       "<p>430 rows × 8 columns</p>\n",
       "</div>"
      ],
      "text/plain": [
       "        PRICE  HEIGHT  WIDTH  SIGNED  PICTURE  HOUSE      C_log     D_log\n",
       "0    3.993780    21.3   25.6       1        1       1  3.058707  4.165114\n",
       "1    8.800000    31.9   25.6       1        2       2  3.462606  4.165114\n",
       "2    0.131694     6.9   15.9       0        3       3  1.931521  4.305416\n",
       "3    2.037500    25.7   32.0       1        4       2  3.246491  4.060443\n",
       "4    1.487500    25.7   32.0       1        4       2  3.246491  4.060443\n",
       "..        ...     ...    ...     ...      ...     ...       ...       ...\n",
       "425  5.282500    25.6   39.4       1      375       1  3.242592  3.923952\n",
       "426  9.352500    25.9   39.6       1      375       2  3.254243  3.919991\n",
       "427  8.252500    25.6   39.6       1      375       1  3.242592  3.919991\n",
       "428  3.410000    25.6   39.4       1      386       2  3.242592  3.923952\n",
       "429  1.542500    25.7   32.0       1      387       1  3.246491  4.060443\n",
       "\n",
       "[430 rows x 8 columns]"
      ]
     },
     "execution_count": 103,
     "metadata": {},
     "output_type": "execute_result"
    }
   ],
   "source": [
    "df"
   ]
  },
  {
   "cell_type": "code",
   "execution_count": 104,
   "id": "5c9f8034",
   "metadata": {},
   "outputs": [
    {
     "name": "stdout",
     "output_type": "stream",
     "text": [
      "RESERVED: -2.0481130945582953\n",
      "NEGATIVE: 2.048113094558297\n"
     ]
    }
   ],
   "source": [
    "from scipy.stats import skew\n",
    "print(\"RESERVED:\",skew(max(df.iloc[:, 2] + 1) - df.iloc[:, 2]))\n",
    "print(\"NEGATIVE:\",skew(df.iloc[:, 2]))"
   ]
  },
  {
   "cell_type": "code",
   "execution_count": 105,
   "id": "ecdb069c",
   "metadata": {},
   "outputs": [
    {
     "data": {
      "text/plain": [
       "<AxesSubplot:>"
      ]
     },
     "execution_count": 105,
     "metadata": {},
     "output_type": "execute_result"
    },
    {
     "data": {
      "image/png": "[encoded data removed]",
      "text/plain": [
       "<Figure size 1080x576 with 2 Axes>"
      ]
     },
     "metadata": {
      "needs_background": "light"
     },
     "output_type": "display_data"
    }
   ],
   "source": [
    "# Finding correlation between the variables\n",
    "import matplotlib.pyplot as plt\n",
    "import seaborn as sns\n",
    "fig, ax = plt.subplots(figsize=(15,8))\n",
    "sns.heatmap(df.corr(), annot=True)"
   ]
  },
  {
   "cell_type": "code",
   "execution_count": 106,
   "id": "f65a59fc",
   "metadata": {},
   "outputs": [],
   "source": [
    "df['SIZE'] = df['HEIGHT']*df['WIDTH']"
   ]
  },
  {
   "cell_type": "code",
   "execution_count": 107,
   "id": "564c3bc9",
   "metadata": {},
   "outputs": [
    {
     "data": {
      "text/html": [
       "<div>\n",
       "<style scoped>\n",
       "    .dataframe tbody tr th:only-of-type {\n",
       "        vertical-align: middle;\n",
       "    }\n",
       "\n",
       "    .dataframe tbody tr th {\n",
       "        vertical-align: top;\n",
       "    }\n",
       "\n",
       "    .dataframe thead th {\n",
       "        text-align: right;\n",
       "    }\n",
       "</style>\n",
       "<table border=\"1\" class=\"dataframe\">\n",
       "  <thead>\n",
       "    <tr style=\"text-align: right;\">\n",
       "      <th></th>\n",
       "      <th>PRICE</th>\n",
       "      <th>HEIGHT</th>\n",
       "      <th>WIDTH</th>\n",
       "      <th>SIGNED</th>\n",
       "      <th>PICTURE</th>\n",
       "      <th>HOUSE</th>\n",
       "      <th>C_log</th>\n",
       "      <th>D_log</th>\n",
       "      <th>SIZE</th>\n",
       "    </tr>\n",
       "  </thead>\n",
       "  <tbody>\n",
       "    <tr>\n",
       "      <th>0</th>\n",
       "      <td>3.993780</td>\n",
       "      <td>21.3</td>\n",
       "      <td>25.6</td>\n",
       "      <td>1</td>\n",
       "      <td>1</td>\n",
       "      <td>1</td>\n",
       "      <td>3.058707</td>\n",
       "      <td>4.165114</td>\n",
       "      <td>545.28</td>\n",
       "    </tr>\n",
       "    <tr>\n",
       "      <th>1</th>\n",
       "      <td>8.800000</td>\n",
       "      <td>31.9</td>\n",
       "      <td>25.6</td>\n",
       "      <td>1</td>\n",
       "      <td>2</td>\n",
       "      <td>2</td>\n",
       "      <td>3.462606</td>\n",
       "      <td>4.165114</td>\n",
       "      <td>816.64</td>\n",
       "    </tr>\n",
       "    <tr>\n",
       "      <th>2</th>\n",
       "      <td>0.131694</td>\n",
       "      <td>6.9</td>\n",
       "      <td>15.9</td>\n",
       "      <td>0</td>\n",
       "      <td>3</td>\n",
       "      <td>3</td>\n",
       "      <td>1.931521</td>\n",
       "      <td>4.305416</td>\n",
       "      <td>109.71</td>\n",
       "    </tr>\n",
       "    <tr>\n",
       "      <th>3</th>\n",
       "      <td>2.037500</td>\n",
       "      <td>25.7</td>\n",
       "      <td>32.0</td>\n",
       "      <td>1</td>\n",
       "      <td>4</td>\n",
       "      <td>2</td>\n",
       "      <td>3.246491</td>\n",
       "      <td>4.060443</td>\n",
       "      <td>822.40</td>\n",
       "    </tr>\n",
       "    <tr>\n",
       "      <th>4</th>\n",
       "      <td>1.487500</td>\n",
       "      <td>25.7</td>\n",
       "      <td>32.0</td>\n",
       "      <td>1</td>\n",
       "      <td>4</td>\n",
       "      <td>2</td>\n",
       "      <td>3.246491</td>\n",
       "      <td>4.060443</td>\n",
       "      <td>822.40</td>\n",
       "    </tr>\n",
       "    <tr>\n",
       "      <th>...</th>\n",
       "      <td>...</td>\n",
       "      <td>...</td>\n",
       "      <td>...</td>\n",
       "      <td>...</td>\n",
       "      <td>...</td>\n",
       "      <td>...</td>\n",
       "      <td>...</td>\n",
       "      <td>...</td>\n",
       "      <td>...</td>\n",
       "    </tr>\n",
       "    <tr>\n",
       "      <th>425</th>\n",
       "      <td>5.282500</td>\n",
       "      <td>25.6</td>\n",
       "      <td>39.4</td>\n",
       "      <td>1</td>\n",
       "      <td>375</td>\n",
       "      <td>1</td>\n",
       "      <td>3.242592</td>\n",
       "      <td>3.923952</td>\n",
       "      <td>1008.64</td>\n",
       "    </tr>\n",
       "    <tr>\n",
       "      <th>426</th>\n",
       "      <td>9.352500</td>\n",
       "      <td>25.9</td>\n",
       "      <td>39.6</td>\n",
       "      <td>1</td>\n",
       "      <td>375</td>\n",
       "      <td>2</td>\n",
       "      <td>3.254243</td>\n",
       "      <td>3.919991</td>\n",
       "      <td>1025.64</td>\n",
       "    </tr>\n",
       "    <tr>\n",
       "      <th>427</th>\n",
       "      <td>8.252500</td>\n",
       "      <td>25.6</td>\n",
       "      <td>39.6</td>\n",
       "      <td>1</td>\n",
       "      <td>375</td>\n",
       "      <td>1</td>\n",
       "      <td>3.242592</td>\n",
       "      <td>3.919991</td>\n",
       "      <td>1013.76</td>\n",
       "    </tr>\n",
       "    <tr>\n",
       "      <th>428</th>\n",
       "      <td>3.410000</td>\n",
       "      <td>25.6</td>\n",
       "      <td>39.4</td>\n",
       "      <td>1</td>\n",
       "      <td>386</td>\n",
       "      <td>2</td>\n",
       "      <td>3.242592</td>\n",
       "      <td>3.923952</td>\n",
       "      <td>1008.64</td>\n",
       "    </tr>\n",
       "    <tr>\n",
       "      <th>429</th>\n",
       "      <td>1.542500</td>\n",
       "      <td>25.7</td>\n",
       "      <td>32.0</td>\n",
       "      <td>1</td>\n",
       "      <td>387</td>\n",
       "      <td>1</td>\n",
       "      <td>3.246491</td>\n",
       "      <td>4.060443</td>\n",
       "      <td>822.40</td>\n",
       "    </tr>\n",
       "  </tbody>\n",
       "</table>\n",
       "<p>430 rows × 9 columns</p>\n",
       "</div>"
      ],
      "text/plain": [
       "        PRICE  HEIGHT  WIDTH  SIGNED  PICTURE  HOUSE      C_log     D_log  \\\n",
       "0    3.993780    21.3   25.6       1        1       1  3.058707  4.165114   \n",
       "1    8.800000    31.9   25.6       1        2       2  3.462606  4.165114   \n",
       "2    0.131694     6.9   15.9       0        3       3  1.931521  4.305416   \n",
       "3    2.037500    25.7   32.0       1        4       2  3.246491  4.060443   \n",
       "4    1.487500    25.7   32.0       1        4       2  3.246491  4.060443   \n",
       "..        ...     ...    ...     ...      ...     ...       ...       ...   \n",
       "425  5.282500    25.6   39.4       1      375       1  3.242592  3.923952   \n",
       "426  9.352500    25.9   39.6       1      375       2  3.254243  3.919991   \n",
       "427  8.252500    25.6   39.6       1      375       1  3.242592  3.919991   \n",
       "428  3.410000    25.6   39.4       1      386       2  3.242592  3.923952   \n",
       "429  1.542500    25.7   32.0       1      387       1  3.246491  4.060443   \n",
       "\n",
       "        SIZE  \n",
       "0     545.28  \n",
       "1     816.64  \n",
       "2     109.71  \n",
       "3     822.40  \n",
       "4     822.40  \n",
       "..       ...  \n",
       "425  1008.64  \n",
       "426  1025.64  \n",
       "427  1013.76  \n",
       "428  1008.64  \n",
       "429   822.40  \n",
       "\n",
       "[430 rows x 9 columns]"
      ]
     },
     "execution_count": 107,
     "metadata": {},
     "output_type": "execute_result"
    }
   ],
   "source": [
    "df"
   ]
  },
  {
   "cell_type": "code",
   "execution_count": 108,
   "id": "f75a0c08",
   "metadata": {},
   "outputs": [
    {
     "name": "stdout",
     "output_type": "stream",
     "text": [
      "PRICE  :  2.8309820163618893\n",
      "HEIGHT  :  1.8263892242940685\n",
      "WIDTH  :  2.048113094558297\n",
      "SIGNED  :  -1.674080612166068\n",
      "PICTURE  :  0.07007980158027305\n",
      "HOUSE   :  0.3733324102363447\n",
      "C_log  :  -0.6357819431970992\n",
      "D_log  :  -6.46647381553117\n",
      "SIZE  :  3.8831941413460154\n"
     ]
    },
    {
     "name": "stderr",
     "output_type": "stream",
     "text": [
      "C:\\Users\\sande\\AppData\\Local\\Temp/ipykernel_33968/2536822990.py:2: DeprecationWarning: `np.object` is a deprecated alias for the builtin `object`. To silence this warning, use `object` by itself. Doing this will not modify any behavior and is safe. \n",
      "Deprecated in NumPy 1.20; for more details and guidance: https://numpy.org/devdocs/release/1.20.0-notes.html#deprecations\n",
      "  if df.dtypes[column] != np.object:\n"
     ]
    }
   ],
   "source": [
    "for column in df.columns:\n",
    "  if df.dtypes[column] != np.object:\n",
    "    print(column ,' : ' , skew(df[column], axis=0, bias=True, nan_policy='omit'))"
   ]
  },
  {
   "cell_type": "code",
   "execution_count": 130,
   "id": "d0de7d11",
   "metadata": {
    "scrolled": true
   },
   "outputs": [
    {
     "data": {
      "text/plain": [
       "<AxesSubplot:xlabel='SIZE', ylabel='C_log'>"
      ]
     },
     "execution_count": 130,
     "metadata": {},
     "output_type": "execute_result"
    },
    {
     "data": {
      "image/png": "[encoded data removed]",
      "text/plain": [
       "<Figure size 1440x720 with 3 Axes>"
      ]
     },
     "metadata": {
      "needs_background": "light"
     },
     "output_type": "display_data"
    }
   ],
   "source": [
    "# We can check this more clearly by using scatter plot\n",
    "# Before plotting we will convert numerical features into their respective log normal values\n",
    "fig, (ax1,ax2,ax3) = plt.subplots(nrows=3, ncols=1, figsize=(20,10))\n",
    "sns.regplot(x='HEIGHT',y='C_log',data=df.apply(np.log), scatter=True, fit_reg=True, ax=ax1, color='red')\n",
    "sns.regplot(x='WIDTH',y='C_log',data=df.apply(np.log), scatter=True, fit_reg=True, ax=ax2, color='blue')\n",
    "sns.regplot(x='SIZE',y='C_log',data=df.apply(np.log), scatter=True, fit_reg=True, ax=ax3, color='green')"
   ]
  },
  {
   "cell_type": "code",
   "execution_count": 110,
   "id": "e7cf46fd",
   "metadata": {},
   "outputs": [],
   "source": [
    "# Simple Linear Regression model 1\n",
    "\n",
    "X = df[['SIZE']].values\n",
    "y= df['PRICE'].values"
   ]
  },
  {
   "cell_type": "code",
   "execution_count": 111,
   "id": "125913d6",
   "metadata": {},
   "outputs": [],
   "source": [
    "X_train, X_test, y_train, y_test = train_test_split(X, y, test_size=0.2, random_state=0)"
   ]
  },
  {
   "cell_type": "code",
   "execution_count": 112,
   "id": "b0486a70",
   "metadata": {},
   "outputs": [
    {
     "data": {
      "text/plain": [
       "LinearRegression()"
      ]
     },
     "execution_count": 112,
     "metadata": {},
     "output_type": "execute_result"
    }
   ],
   "source": [
    "M1 = linear_model.LinearRegression()\n",
    "M1.fit(X_train, y_train)"
   ]
  },
  {
   "cell_type": "code",
   "execution_count": 113,
   "id": "12db6daa",
   "metadata": {},
   "outputs": [],
   "source": [
    "y_pred = M1.predict(X_test)"
   ]
  },
  {
   "cell_type": "code",
   "execution_count": 114,
   "id": "49aa5201",
   "metadata": {},
   "outputs": [
    {
     "data": {
      "text/html": [
       "<div>\n",
       "<style scoped>\n",
       "    .dataframe tbody tr th:only-of-type {\n",
       "        vertical-align: middle;\n",
       "    }\n",
       "\n",
       "    .dataframe tbody tr th {\n",
       "        vertical-align: top;\n",
       "    }\n",
       "\n",
       "    .dataframe thead th {\n",
       "        text-align: right;\n",
       "    }\n",
       "</style>\n",
       "<table border=\"1\" class=\"dataframe\">\n",
       "  <thead>\n",
       "    <tr style=\"text-align: right;\">\n",
       "      <th></th>\n",
       "      <th>Actual Price</th>\n",
       "      <th>Predicted Price</th>\n",
       "    </tr>\n",
       "  </thead>\n",
       "  <tbody>\n",
       "    <tr>\n",
       "      <th>0</th>\n",
       "      <td>0.908000</td>\n",
       "      <td>3.182809</td>\n",
       "    </tr>\n",
       "    <tr>\n",
       "      <th>1</th>\n",
       "      <td>0.886000</td>\n",
       "      <td>1.789030</td>\n",
       "    </tr>\n",
       "    <tr>\n",
       "      <th>2</th>\n",
       "      <td>0.762774</td>\n",
       "      <td>3.146428</td>\n",
       "    </tr>\n",
       "    <tr>\n",
       "      <th>3</th>\n",
       "      <td>0.352000</td>\n",
       "      <td>1.942730</td>\n",
       "    </tr>\n",
       "    <tr>\n",
       "      <th>4</th>\n",
       "      <td>3.742500</td>\n",
       "      <td>3.006416</td>\n",
       "    </tr>\n",
       "    <tr>\n",
       "      <th>...</th>\n",
       "      <td>...</td>\n",
       "      <td>...</td>\n",
       "    </tr>\n",
       "    <tr>\n",
       "      <th>81</th>\n",
       "      <td>1.390620</td>\n",
       "      <td>2.573611</td>\n",
       "    </tr>\n",
       "    <tr>\n",
       "      <th>82</th>\n",
       "      <td>0.288500</td>\n",
       "      <td>2.250453</td>\n",
       "    </tr>\n",
       "    <tr>\n",
       "      <th>83</th>\n",
       "      <td>1.487500</td>\n",
       "      <td>2.755056</td>\n",
       "    </tr>\n",
       "    <tr>\n",
       "      <th>84</th>\n",
       "      <td>7.539658</td>\n",
       "      <td>3.001823</td>\n",
       "    </tr>\n",
       "    <tr>\n",
       "      <th>85</th>\n",
       "      <td>9.900000</td>\n",
       "      <td>3.541474</td>\n",
       "    </tr>\n",
       "  </tbody>\n",
       "</table>\n",
       "<p>86 rows × 2 columns</p>\n",
       "</div>"
      ],
      "text/plain": [
       "    Actual Price  Predicted Price\n",
       "0       0.908000         3.182809\n",
       "1       0.886000         1.789030\n",
       "2       0.762774         3.146428\n",
       "3       0.352000         1.942730\n",
       "4       3.742500         3.006416\n",
       "..           ...              ...\n",
       "81      1.390620         2.573611\n",
       "82      0.288500         2.250453\n",
       "83      1.487500         2.755056\n",
       "84      7.539658         3.001823\n",
       "85      9.900000         3.541474\n",
       "\n",
       "[86 rows x 2 columns]"
      ]
     },
     "execution_count": 114,
     "metadata": {},
     "output_type": "execute_result"
    }
   ],
   "source": [
    "price_df = pd.DataFrame({'Actual Price': y_test, 'Predicted Price': y_pred})\n",
    "price_df"
   ]
  },
  {
   "cell_type": "code",
   "execution_count": 115,
   "id": "e7e5887f",
   "metadata": {},
   "outputs": [
    {
     "data": {
      "image/png": "[encoded data removed]",
      "text/plain": [
       "<Figure size 720x360 with 1 Axes>"
      ]
     },
     "metadata": {
      "needs_background": "light"
     },
     "output_type": "display_data"
    }
   ],
   "source": [
    "fig, ax = plt.subplots(figsize=(10,5))\n",
    "plt.scatter(X_train, y_train)\n",
    "plt.plot(X_test, y_pred, color = 'red')\n",
    "plt.xlabel(\"SIZE\")\n",
    "plt.ylabel(\"PRICE\")\n",
    "plt.show()"
   ]
  },
  {
   "cell_type": "code",
   "execution_count": 116,
   "id": "4c17d991",
   "metadata": {},
   "outputs": [
    {
     "name": "stdout",
     "output_type": "stream",
     "text": [
      "Mean Absolute error 2.6855486941004543\n",
      "Mean squared error 16.35922009540488\n",
      "root Mean squared error 4.044653272581579\n"
     ]
    }
   ],
   "source": [
    "from sklearn import metrics\n",
    "import numpy as np\n",
    "print('Mean Absolute error',metrics.mean_absolute_error(y_test,y_pred))\n",
    "print('Mean squared error',metrics.mean_squared_error(y_test,y_pred))\n",
    "print('root Mean squared error',np.sqrt(metrics.mean_squared_error(y_test,y_pred)))"
   ]
  },
  {
   "cell_type": "code",
   "execution_count": 117,
   "id": "dd780a9b",
   "metadata": {},
   "outputs": [],
   "source": [
    "# Simple Linear Regression model 2\n",
    "X = df[['HEIGHT']].values\n",
    "y= df['WIDTH'].values"
   ]
  },
  {
   "cell_type": "code",
   "execution_count": 118,
   "id": "bd0680a2",
   "metadata": {},
   "outputs": [],
   "source": [
    "X_train, X_test, y_train, y_test = train_test_split(X, y, test_size=0.2, random_state=0)"
   ]
  },
  {
   "cell_type": "code",
   "execution_count": 119,
   "id": "758bafc9",
   "metadata": {},
   "outputs": [
    {
     "data": {
      "text/plain": [
       "LinearRegression()"
      ]
     },
     "execution_count": 119,
     "metadata": {},
     "output_type": "execute_result"
    }
   ],
   "source": [
    "M2 = linear_model.LinearRegression()\n",
    "M2.fit(X_train, y_train)"
   ]
  },
  {
   "cell_type": "code",
   "execution_count": 120,
   "id": "cf21d110",
   "metadata": {},
   "outputs": [],
   "source": [
    "y_pred = M2.predict(X_test)"
   ]
  },
  {
   "cell_type": "code",
   "execution_count": 121,
   "id": "6d95f4fb",
   "metadata": {},
   "outputs": [
    {
     "data": {
      "text/html": [
       "<div>\n",
       "<style scoped>\n",
       "    .dataframe tbody tr th:only-of-type {\n",
       "        vertical-align: middle;\n",
       "    }\n",
       "\n",
       "    .dataframe tbody tr th {\n",
       "        vertical-align: top;\n",
       "    }\n",
       "\n",
       "    .dataframe thead th {\n",
       "        text-align: right;\n",
       "    }\n",
       "</style>\n",
       "<table border=\"1\" class=\"dataframe\">\n",
       "  <thead>\n",
       "    <tr style=\"text-align: right;\">\n",
       "      <th></th>\n",
       "      <th>Actual Price</th>\n",
       "      <th>Predicted Price</th>\n",
       "    </tr>\n",
       "  </thead>\n",
       "  <tbody>\n",
       "    <tr>\n",
       "      <th>0</th>\n",
       "      <td>39.4</td>\n",
       "      <td>30.861881</td>\n",
       "    </tr>\n",
       "    <tr>\n",
       "      <th>1</th>\n",
       "      <td>28.7</td>\n",
       "      <td>25.611402</td>\n",
       "    </tr>\n",
       "    <tr>\n",
       "      <th>2</th>\n",
       "      <td>36.5</td>\n",
       "      <td>31.586085</td>\n",
       "    </tr>\n",
       "    <tr>\n",
       "      <th>3</th>\n",
       "      <td>24.8</td>\n",
       "      <td>27.829277</td>\n",
       "    </tr>\n",
       "    <tr>\n",
       "      <th>4</th>\n",
       "      <td>36.4</td>\n",
       "      <td>30.861881</td>\n",
       "    </tr>\n",
       "    <tr>\n",
       "      <th>...</th>\n",
       "      <td>...</td>\n",
       "      <td>...</td>\n",
       "    </tr>\n",
       "    <tr>\n",
       "      <th>81</th>\n",
       "      <td>31.5</td>\n",
       "      <td>29.956626</td>\n",
       "    </tr>\n",
       "    <tr>\n",
       "      <th>82</th>\n",
       "      <td>28.7</td>\n",
       "      <td>28.779795</td>\n",
       "    </tr>\n",
       "    <tr>\n",
       "      <th>83</th>\n",
       "      <td>32.0</td>\n",
       "      <td>30.907144</td>\n",
       "    </tr>\n",
       "    <tr>\n",
       "      <th>84</th>\n",
       "      <td>39.4</td>\n",
       "      <td>29.956626</td>\n",
       "    </tr>\n",
       "    <tr>\n",
       "      <th>85</th>\n",
       "      <td>36.4</td>\n",
       "      <td>33.758697</td>\n",
       "    </tr>\n",
       "  </tbody>\n",
       "</table>\n",
       "<p>86 rows × 2 columns</p>\n",
       "</div>"
      ],
      "text/plain": [
       "    Actual Price  Predicted Price\n",
       "0           39.4        30.861881\n",
       "1           28.7        25.611402\n",
       "2           36.5        31.586085\n",
       "3           24.8        27.829277\n",
       "4           36.4        30.861881\n",
       "..           ...              ...\n",
       "81          31.5        29.956626\n",
       "82          28.7        28.779795\n",
       "83          32.0        30.907144\n",
       "84          39.4        29.956626\n",
       "85          36.4        33.758697\n",
       "\n",
       "[86 rows x 2 columns]"
      ]
     },
     "execution_count": 121,
     "metadata": {},
     "output_type": "execute_result"
    }
   ],
   "source": [
    "price_df = pd.DataFrame({'Actual Price': y_test, 'Predicted Price': y_pred})\n",
    "price_df"
   ]
  },
  {
   "cell_type": "code",
   "execution_count": 122,
   "id": "0409ebe8",
   "metadata": {},
   "outputs": [
    {
     "data": {
      "image/png": "[encoded data removed]",
      "text/plain": [
       "<Figure size 720x360 with 1 Axes>"
      ]
     },
     "metadata": {
      "needs_background": "light"
     },
     "output_type": "display_data"
    }
   ],
   "source": [
    "fig, ax = plt.subplots(figsize=(10,5))\n",
    "plt.scatter(X_train, y_train)\n",
    "plt.plot(X_test, y_pred, color = 'red')\n",
    "plt.xlabel(\"HEIGHT\")\n",
    "plt.ylabel(\"WIDTH\")\n",
    "plt.show()"
   ]
  },
  {
   "cell_type": "code",
   "execution_count": 123,
   "id": "bc83ac5f",
   "metadata": {},
   "outputs": [
    {
     "name": "stdout",
     "output_type": "stream",
     "text": [
      "Mean Absolute error 5.561003826288447\n",
      "Mean squared error 89.90651765571262\n",
      "root Mean squared error 9.481904748293594\n"
     ]
    }
   ],
   "source": [
    "from sklearn import metrics\n",
    "import numpy as np\n",
    "print('Mean Absolute error',metrics.mean_absolute_error(y_test,y_pred))\n",
    "print('Mean squared error',metrics.mean_squared_error(y_test,y_pred))\n",
    "print('root Mean squared error',np.sqrt(metrics.mean_squared_error(y_test,y_pred)))"
   ]
  },
  {
   "cell_type": "code",
   "execution_count": 124,
   "id": "72ffa034",
   "metadata": {},
   "outputs": [],
   "source": [
    "# Multiple Linear Regression model 3\n",
    "X = df[['WIDTH', 'HEIGHT','SIZE','SIGNED','PICTURE', 'HOUSE ']].values\n",
    "y= df['PRICE'].values"
   ]
  },
  {
   "cell_type": "code",
   "execution_count": 125,
   "id": "60eb1bde",
   "metadata": {},
   "outputs": [],
   "source": [
    "X_train, X_test, y_train, y_test = train_test_split(X, y, test_size=0.2, random_state=0)"
   ]
  },
  {
   "cell_type": "code",
   "execution_count": 126,
   "id": "122b6660",
   "metadata": {},
   "outputs": [
    {
     "data": {
      "text/plain": [
       "LinearRegression()"
      ]
     },
     "execution_count": 126,
     "metadata": {},
     "output_type": "execute_result"
    }
   ],
   "source": [
    "M3 = linear_model.LinearRegression()\n",
    "M3.fit(X_train, y_train)"
   ]
  },
  {
   "cell_type": "code",
   "execution_count": 127,
   "id": "8b463821",
   "metadata": {},
   "outputs": [],
   "source": [
    "y_pred = M3.predict(X_test)"
   ]
  },
  {
   "cell_type": "code",
   "execution_count": 128,
   "id": "b89277e1",
   "metadata": {},
   "outputs": [
    {
     "data": {
      "text/html": [
       "<div>\n",
       "<style scoped>\n",
       "    .dataframe tbody tr th:only-of-type {\n",
       "        vertical-align: middle;\n",
       "    }\n",
       "\n",
       "    .dataframe tbody tr th {\n",
       "        vertical-align: top;\n",
       "    }\n",
       "\n",
       "    .dataframe thead th {\n",
       "        text-align: right;\n",
       "    }\n",
       "</style>\n",
       "<table border=\"1\" class=\"dataframe\">\n",
       "  <thead>\n",
       "    <tr style=\"text-align: right;\">\n",
       "      <th></th>\n",
       "      <th>Actual Price</th>\n",
       "      <th>Predicted Price</th>\n",
       "    </tr>\n",
       "  </thead>\n",
       "  <tbody>\n",
       "    <tr>\n",
       "      <th>0</th>\n",
       "      <td>0.908000</td>\n",
       "      <td>3.860860</td>\n",
       "    </tr>\n",
       "    <tr>\n",
       "      <th>1</th>\n",
       "      <td>0.886000</td>\n",
       "      <td>1.730270</td>\n",
       "    </tr>\n",
       "    <tr>\n",
       "      <th>2</th>\n",
       "      <td>0.762774</td>\n",
       "      <td>3.224028</td>\n",
       "    </tr>\n",
       "    <tr>\n",
       "      <th>3</th>\n",
       "      <td>0.352000</td>\n",
       "      <td>1.283868</td>\n",
       "    </tr>\n",
       "    <tr>\n",
       "      <th>4</th>\n",
       "      <td>3.742500</td>\n",
       "      <td>3.490797</td>\n",
       "    </tr>\n",
       "    <tr>\n",
       "      <th>...</th>\n",
       "      <td>...</td>\n",
       "      <td>...</td>\n",
       "    </tr>\n",
       "    <tr>\n",
       "      <th>81</th>\n",
       "      <td>1.390620</td>\n",
       "      <td>2.727410</td>\n",
       "    </tr>\n",
       "    <tr>\n",
       "      <th>82</th>\n",
       "      <td>0.288500</td>\n",
       "      <td>0.496383</td>\n",
       "    </tr>\n",
       "    <tr>\n",
       "      <th>83</th>\n",
       "      <td>1.487500</td>\n",
       "      <td>2.834219</td>\n",
       "    </tr>\n",
       "    <tr>\n",
       "      <th>84</th>\n",
       "      <td>7.539658</td>\n",
       "      <td>4.588408</td>\n",
       "    </tr>\n",
       "    <tr>\n",
       "      <th>85</th>\n",
       "      <td>9.900000</td>\n",
       "      <td>4.616615</td>\n",
       "    </tr>\n",
       "  </tbody>\n",
       "</table>\n",
       "<p>86 rows × 2 columns</p>\n",
       "</div>"
      ],
      "text/plain": [
       "    Actual Price  Predicted Price\n",
       "0       0.908000         3.860860\n",
       "1       0.886000         1.730270\n",
       "2       0.762774         3.224028\n",
       "3       0.352000         1.283868\n",
       "4       3.742500         3.490797\n",
       "..           ...              ...\n",
       "81      1.390620         2.727410\n",
       "82      0.288500         0.496383\n",
       "83      1.487500         2.834219\n",
       "84      7.539658         4.588408\n",
       "85      9.900000         4.616615\n",
       "\n",
       "[86 rows x 2 columns]"
      ]
     },
     "execution_count": 128,
     "metadata": {},
     "output_type": "execute_result"
    }
   ],
   "source": [
    "price_df = pd.DataFrame({'Actual Price': y_test, 'Predicted Price': y_pred})\n",
    "price_df"
   ]
  },
  {
   "cell_type": "code",
   "execution_count": 132,
   "id": "39000803",
   "metadata": {},
   "outputs": [
    {
     "name": "stdout",
     "output_type": "stream",
     "text": [
      "Mean Absolute error 2.5506852722047513\n",
      "root Mean squared error 3.918428997954071\n"
     ]
    }
   ],
   "source": [
    "from sklearn import metrics\n",
    "import numpy as np\n",
    "print('Mean Absolute error',metrics.mean_absolute_error(y_test,y_pred))\n",
    "print('root Mean squared error',np.sqrt(metrics.mean_squared_error(y_test,y_pred)))"
   ]
  },
  {
   "cell_type": "code",
   "execution_count": null,
   "id": "b70f63d4",
   "metadata": {},
   "outputs": [],
   "source": []
  },
  {
   "cell_type": "code",
   "execution_count": null,
   "id": "a017547e",
   "metadata": {},
   "outputs": [],
   "source": []
  }
 ],
 "metadata": {
  "kernelspec": {
   "display_name": "Python 3 (ipykernel)",
   "language": "python",
   "name": "python3"
  },
  "language_info": {
   "codemirror_mode": {
    "name": "ipython",
    "version": 3
   },
   "file_extension": ".py",
   "mimetype": "text/x-python",
   "name": "python",
   "nbconvert_exporter": "python",
   "pygments_lexer": "ipython3",
   "version": "3.9.7"
  }
 },
 "nbformat": 4,
 "nbformat_minor": 5
}
